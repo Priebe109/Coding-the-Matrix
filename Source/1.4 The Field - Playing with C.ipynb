{
 "cells": [
  {
   "cell_type": "code",
   "execution_count": 18,
   "metadata": {
    "collapsed": false
   },
   "outputs": [],
   "source": [
    "# Task 1.4.1\n",
    "\n",
    "S = {2+2j, 3+2j, 1.75+1j, 2+1j, 2.25+1j, 2.5+1j, 2.75+1j, 3+1j, 3.25+1j}\n",
    "\n",
    "from plotting import plot\n",
    "\n",
    "plot(S, 4)"
   ]
  },
  {
   "cell_type": "code",
   "execution_count": 6,
   "metadata": {
    "collapsed": false
   },
   "outputs": [
    {
     "name": "stdout",
     "output_type": "stream",
     "text": [
      "(1.4.2A): 5.0\n",
      "(1.4.2B): (3-4j)\n"
     ]
    }
   ],
   "source": [
    "# Task 1.4.2\n",
    "\n",
    "i_142 = 3+4j\n",
    "\n",
    "print(\"(1.4.2A):\", abs(i_142))\n",
    "print(\"(1.4.2B):\", i_142.conjugate())"
   ]
  },
  {
   "cell_type": "code",
   "execution_count": 7,
   "metadata": {
    "collapsed": true
   },
   "outputs": [],
   "source": [
    "# Task 1.4.3\n",
    "\n",
    "plot([point + 1+2j for point in S], 4)"
   ]
  },
  {
   "cell_type": "code",
   "execution_count": 12,
   "metadata": {
    "collapsed": false
   },
   "outputs": [
    {
     "name": "stdout",
     "output_type": "stream",
     "text": [
      "(1.4.5A): True\n",
      "(1.4.5B): True\n",
      "(1.4.5C): False\n"
     ]
    }
   ],
   "source": [
    "# Problem 1.4.5\n",
    "\n",
    "z1 = 1+2j\n",
    "z2 = 3+1j\n",
    "\n",
    "z0_1to2 = 2 - 1j\n",
    "print(\"(1.4.5A):\", (z1 + z0_1to2) == z2)\n",
    "\n",
    "z0_2to1 = -2 + 1j\n",
    "print(\"(1.4.5B):\", (z2 + z0_2to1) == z1)\n",
    "\n",
    "z0 = z0_2to1\n",
    "print(\"(1.4.5C):\", (z2 + z0) == z1 and (z1 + z0) == z2)"
   ]
  },
  {
   "cell_type": "code",
   "execution_count": 16,
   "metadata": {
    "collapsed": true
   },
   "outputs": [],
   "source": [
    "# Problem 1.4.6\n",
    "\n",
    "pseudoArrowZ0_A = {-1+1j, -4+4j}\n",
    "pseudoArrowZ0_B = {5+1j, 2+4j}\n",
    "\n",
    "plot(pseudoArrowZ0_A | pseudoArrowZ0_B, 6)"
   ]
  },
  {
   "cell_type": "code",
   "execution_count": 17,
   "metadata": {
    "collapsed": true
   },
   "outputs": [],
   "source": [
    "# Task 1.4.7\n",
    "\n",
    "plot([point / 2 for point in S], 4)"
   ]
  },
  {
   "cell_type": "code",
   "execution_count": 21,
   "metadata": {
    "collapsed": true
   },
   "outputs": [],
   "source": [
    "# Task 1.4.8\n",
    "\n",
    "plot([point * 0.5j for point in S], 4)"
   ]
  },
  {
   "cell_type": "code",
   "execution_count": 22,
   "metadata": {
    "collapsed": true
   },
   "outputs": [],
   "source": [
    "# Task 1.4.9\n",
    "\n",
    "plot([point * 0.5j + 2 - 1j for point in S], 4)"
   ]
  },
  {
   "cell_type": "code",
   "execution_count": 51,
   "metadata": {
    "collapsed": false
   },
   "outputs": [],
   "source": [
    "# Task 1.4.10\n",
    "\n",
    "from image import file2image\n",
    "image = file2image('resources/img01.png')\n",
    "\n",
    "pts = [x - y*1j + len(image) * 1j for y in range(len(image)) for x in range(len(image[y])) if sum(image[y][x])/len(image[y][x]) < 120]\n",
    "\n",
    "plot(pts, len(image))"
   ]
  },
  {
   "cell_type": "code",
   "execution_count": 60,
   "metadata": {
    "collapsed": false
   },
   "outputs": [],
   "source": [
    "# Task 1.4.17 - Eulers\n",
    "\n",
    "import math\n",
    "\n",
    "n = 20\n",
    "\n",
    "math.e ** (math.pi * 1j)\n",
    "\n",
    "plot([math.e**(math.pi*2j/(i+1)) for i in range(n)], 2)"
   ]
  },
  {
   "cell_type": "code",
   "execution_count": 64,
   "metadata": {
    "collapsed": true
   },
   "outputs": [],
   "source": [
    "# Task 1.4.18 - Rotation by use of Eulers and The First Law of Exponentiation\n",
    "\n",
    "plot([point * math.e**((1j*math.pi)/4) for point in S], 4)"
   ]
  },
  {
   "cell_type": "code",
   "execution_count": 66,
   "metadata": {
    "collapsed": true
   },
   "outputs": [],
   "source": [
    "# Task 1.4.19\n",
    "\n",
    "plot([point * math.e**((1j*math.pi)/4) for point in pts],  len(image))"
   ]
  },
  {
   "cell_type": "code",
   "execution_count": 69,
   "metadata": {
    "collapsed": false
   },
   "outputs": [],
   "source": [
    "# Task 1.4.20 - Combining operations\n",
    "\n",
    "centeredPoints = [point - len(image[0])/2 - (1j*len(image))/2 for point in pts]\n",
    "rotatedPoints = [point * math.e**((1j*math.pi)/4) for point in centeredPoints]\n",
    "scaledPoints = [point / 2 for point in rotatedPoints]\n",
    "\n",
    "plot(scaledPoints, len(image))"
   ]
  },
  {
   "cell_type": "code",
   "execution_count": null,
   "metadata": {
    "collapsed": true
   },
   "outputs": [],
   "source": []
  }
 ],
 "metadata": {
  "anaconda-cloud": {},
  "kernelspec": {
   "display_name": "Python [Root]",
   "language": "python",
   "name": "Python [Root]"
  },
  "language_info": {
   "codemirror_mode": {
    "name": "ipython",
    "version": 3
   },
   "file_extension": ".py",
   "mimetype": "text/x-python",
   "name": "python",
   "nbconvert_exporter": "python",
   "pygments_lexer": "ipython3",
   "version": "3.5.1"
  }
 },
 "nbformat": 4,
 "nbformat_minor": 0
}
