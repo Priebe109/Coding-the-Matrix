{
 "cells": [
  {
   "cell_type": "code",
   "execution_count": null,
   "metadata": {
    "collapsed": true
   },
   "outputs": [],
   "source": [
    "#\n",
    "# Python comprehension problems\n",
    "#"
   ]
  },
  {
   "cell_type": "code",
   "execution_count": 1,
   "metadata": {
    "collapsed": false
   },
   "outputs": [
    {
     "name": "stdout",
     "output_type": "stream",
     "text": [
      "(1.7.1): [1, 5, 7]\n"
     ]
    }
   ],
   "source": [
    "# Problem 1.7.1\n",
    "\n",
    "def my_filter(L, num):\n",
    "    return [x for x in L if x % num != 0]\n",
    "\n",
    "print(\"(1.7.1):\", my_filter([1,2,4,5,7], 2))"
   ]
  },
  {
   "cell_type": "code",
   "execution_count": 23,
   "metadata": {
    "collapsed": false
   },
   "outputs": [
    {
     "name": "stdout",
     "output_type": "stream",
     "text": [
      "(1.7.2A): [[1], [1, 2], [1, 2, 3, 4]]\n",
      "(1.7.2B): [[]]\n"
     ]
    }
   ],
   "source": [
    "# Problem 1.7.2\n",
    "\n",
    "def my_lists(L):\n",
    "    return [[x for x in range(L[y] + 1) if x != 0] for y in range(len(L))]\n",
    "\n",
    "print(\"(1.7.2A):\", my_lists([1, 2, 4]))\n",
    "print(\"(1.7.2B):\", my_lists([0]))"
   ]
  },
  {
   "cell_type": "code",
   "execution_count": 26,
   "metadata": {
    "collapsed": false
   },
   "outputs": [
    {
     "name": "stdout",
     "output_type": "stream",
     "text": [
      "(1.7.3): {0: 'apple', 1: 'banana'}\n"
     ]
    }
   ],
   "source": [
    "# Problem 1.7.3\n",
    "\n",
    "def my_function_composition(f, g):\n",
    "    return {key:g[f[key]] for key in f.keys()}\n",
    "\n",
    "print(\"(1.7.3):\", my_function_composition({0:'a', 1:'b'}, {'a':'apple', 'b':'banana'}))"
   ]
  },
  {
   "cell_type": "code",
   "execution_count": 27,
   "metadata": {
    "collapsed": true
   },
   "outputs": [],
   "source": [
    "#\n",
    "# Python loop problems\n",
    "#"
   ]
  },
  {
   "cell_type": "code",
   "execution_count": 36,
   "metadata": {
    "collapsed": false
   },
   "outputs": [
    {
     "name": "stdout",
     "output_type": "stream",
     "text": [
      "(1.7.4): 10\n"
     ]
    }
   ],
   "source": [
    "# Problem 1.7.4\n",
    "\n",
    "def mySum(L):\n",
    "    current = 0\n",
    "    for x in L:\n",
    "        current += x\n",
    "    return current\n",
    "\n",
    "print(\"(1.7.4):\", mySum([1, 2, 3, 4]))"
   ]
  },
  {
   "cell_type": "code",
   "execution_count": 35,
   "metadata": {
    "collapsed": false
   },
   "outputs": [
    {
     "name": "stdout",
     "output_type": "stream",
     "text": [
      "(1.7.5): 24\n"
     ]
    }
   ],
   "source": [
    "# Problem 1.7.5\n",
    "\n",
    "def myProduct(L):\n",
    "    current = 1\n",
    "    for x in L:\n",
    "        current *= x\n",
    "    return current\n",
    "\n",
    "print(\"(1.7.5):\", myProduct([1, 2, 3, 4]))"
   ]
  },
  {
   "cell_type": "code",
   "execution_count": 37,
   "metadata": {
    "collapsed": false
   },
   "outputs": [
    {
     "name": "stdout",
     "output_type": "stream",
     "text": [
      "(1.7.6): 1\n"
     ]
    }
   ],
   "source": [
    "# Problem 1.7.6\n",
    "\n",
    "def myMin(L):\n",
    "    current = L[0]\n",
    "    for x in L:\n",
    "        if x < current:\n",
    "            current = x\n",
    "    return current\n",
    "\n",
    "print(\"(1.7.6):\", myMin([1, 2, 3, 4]))"
   ]
  },
  {
   "cell_type": "code",
   "execution_count": 40,
   "metadata": {
    "collapsed": false
   },
   "outputs": [
    {
     "name": "stdout",
     "output_type": "stream",
     "text": [
      "(1.7.7): hello, world!\n"
     ]
    }
   ],
   "source": [
    "# Problem 1.7.7\n",
    "\n",
    "def myConcat(L):\n",
    "    current = \"\"\n",
    "    for x in L:\n",
    "        current += x\n",
    "    return current\n",
    "\n",
    "print(\"(1.7.7):\", myConcat(['hello, ', 'world!']))"
   ]
  },
  {
   "cell_type": "code",
   "execution_count": 42,
   "metadata": {
    "collapsed": false
   },
   "outputs": [
    {
     "name": "stdout",
     "output_type": "stream",
     "text": [
      "(1.7.8): {1, 2, 3, 4, 5, 6}\n"
     ]
    }
   ],
   "source": [
    "# Problem 1.7.8\n",
    "\n",
    "def myUnion(L):\n",
    "    current = set()\n",
    "    for x in L:\n",
    "        current |= x\n",
    "    return current\n",
    "\n",
    "print(\"(1.7.8):\", myUnion([{1, 2}, {2, 3, 4}, {5, 6}]))"
   ]
  },
  {
   "cell_type": "code",
   "execution_count": 43,
   "metadata": {
    "collapsed": true
   },
   "outputs": [],
   "source": [
    "# Problem 1.7.9\n",
    "\n",
    "# the identity element for the intersect operation must contain all possible values, otherwise i <> x != x"
   ]
  },
  {
   "cell_type": "code",
   "execution_count": 44,
   "metadata": {
    "collapsed": true
   },
   "outputs": [],
   "source": [
    "#\n",
    "# Combining operations on complex numbers\n",
    "#"
   ]
  },
  {
   "cell_type": "code",
   "execution_count": 56,
   "metadata": {
    "collapsed": false
   },
   "outputs": [],
   "source": [
    "# Problem 1.7.12\n",
    "\n",
    "def transform(a, b, L):\n",
    "    return [a*z + b for z in L]\n",
    "\n",
    "import math\n",
    "from plotting import plot\n",
    "\n",
    "S = {1+1j, 2+1j, 3+1j, 4+1j}\n",
    "\n",
    "plot(transform(-1j,(1+1j),S), 10) # 1+1j for 1 right 1 up, -i since i is 90 degrees counter clockwise"
   ]
  },
  {
   "cell_type": "code",
   "execution_count": 57,
   "metadata": {
    "collapsed": true
   },
   "outputs": [],
   "source": [
    "#\n",
    "# GF(2) arithmetic\n",
    "#"
   ]
  },
  {
   "cell_type": "code",
   "execution_count": 61,
   "metadata": {
    "collapsed": false
   },
   "outputs": [
    {
     "name": "stdout",
     "output_type": "stream",
     "text": [
      "(1.7.13A): 1\n",
      "(1.7.13B): 0\n",
      "(1.7.13C): 0\n"
     ]
    }
   ],
   "source": [
    "# Problem 1.7.13\n",
    "\n",
    "print(\"(1.7.13A):\", (1^1^1^0))\n",
    "print(\"(1.7.13B):\", (1*1^0*1^0*0^1*1))\n",
    "print(\"(1.7.13C):\", ((1^1^1)*(1^1^1^1)))"
   ]
  },
  {
   "cell_type": "code",
   "execution_count": 62,
   "metadata": {
    "collapsed": true
   },
   "outputs": [],
   "source": [
    "#\n",
    "# Network coding\n",
    "#"
   ]
  },
  {
   "cell_type": "code",
   "execution_count": 74,
   "metadata": {
    "collapsed": false
   },
   "outputs": [
    {
     "name": "stdout",
     "output_type": "stream",
     "text": [
      "(1.7.13C.B2): 1\n",
      "(1.7.13D.B1): 1\n"
     ]
    }
   ],
   "source": [
    "# Problem 1.7.14\n",
    "\n",
    "# Bits being transmitted\n",
    "b1 = 1\n",
    "b2 = 1\n",
    "bi = b1^b2\n",
    "\n",
    "# Bits received\n",
    "(c1, c2) = (b1, bi)\n",
    "(d1, d2) = (b2, bi)\n",
    "\n",
    "# C can calculate b2\n",
    "print(\"(1.7.13C.B2):\", bi ^ b1)\n",
    "\n",
    "# D can calculate b1\n",
    "print(\"(1.7.13D.B1):\", bi ^ b2)"
   ]
  },
  {
   "cell_type": "code",
   "execution_count": null,
   "metadata": {
    "collapsed": true
   },
   "outputs": [],
   "source": []
  }
 ],
 "metadata": {
  "kernelspec": {
   "display_name": "Python [Root]",
   "language": "python",
   "name": "Python [Root]"
  },
  "language_info": {
   "codemirror_mode": {
    "name": "ipython",
    "version": 3
   },
   "file_extension": ".py",
   "mimetype": "text/x-python",
   "name": "python",
   "nbconvert_exporter": "python",
   "pygments_lexer": "ipython3",
   "version": "3.5.1"
  }
 },
 "nbformat": 4,
 "nbformat_minor": 0
}
