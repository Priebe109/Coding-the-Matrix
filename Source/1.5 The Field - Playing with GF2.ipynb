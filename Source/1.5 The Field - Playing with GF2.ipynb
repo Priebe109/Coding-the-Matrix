{
 "cells": [
  {
   "cell_type": "code",
   "execution_count": 21,
   "metadata": {
    "collapsed": false
   },
   "outputs": [
    {
     "name": "stdout",
     "output_type": "stream",
     "text": [
      "(1.5.1) key: 0 - ['V', 'E', 'V', 'L', 'Z', 'D', 'L', 'V', 'E', 'Z', ' ']\n",
      "(1.5.1) key: 1 - ['U', 'F', 'U', 'K', 'Y', 'C', 'K', 'U', 'F', 'Y', 'A']\n",
      "(1.5.1) key: 2 - ['X', 'G', 'X', 'J', 'A', 'B', 'J', 'X', 'G', 'A', 'Y']\n",
      "(1.5.1) key: 3 - ['W', 'H', 'W', 'I', ' ', 'A', 'I', 'W', 'H', ' ', 'Z']\n",
      "(1.5.1) key: 4 - ['R', 'A', 'R', 'P', 'C', 'H', 'P', 'R', 'A', 'C', 'D']\n",
      "(1.5.1) key: 5 - ['Q', 'B', 'Q', 'O', 'B', 'G', 'O', 'Q', 'B', 'B', 'E']\n",
      "(1.5.1) key: 6 - ['T', 'C', 'T', 'N', 'E', 'F', 'N', 'T', 'C', 'E', 'B']\n",
      "(1.5.1) key: 7 - ['S', 'D', 'S', 'M', 'D', 'E', 'M', 'S', 'D', 'D', 'C']\n",
      "(1.5.1) key: 8 - ['C', 'M', 'C', 'D', 'R', 'L', 'D', 'C', 'M', 'R', 'S']\n",
      "(1.5.1) key: 9 - ['B', 'N', 'B', 'C', 'Q', 'K', 'C', 'B', 'N', 'Q', 'T']\n",
      "(1.5.1) key: 10 - ['E', 'O', 'E', 'B', 'T', 'J', 'B', 'E', 'O', 'T', 'Q']\n",
      "(1.5.1) key: 11 - ['D', 'P', 'D', 'A', 'S', 'I', 'A', 'D', 'P', 'S', 'R']\n",
      "(1.5.1) key: 12 - ['Z', 'I', 'Z', 'H', 'V', 'P', 'H', 'Z', 'I', 'V', 'W']\n",
      "(1.5.1) key: 13 - ['Y', 'J', 'Y', 'G', 'U', 'O', 'G', 'Y', 'J', 'U', 'X']\n",
      "(1.5.1) key: 14 - ['A', 'K', 'A', 'F', 'X', 'N', 'F', 'A', 'K', 'X', 'U']\n",
      "(1.5.1) key: 15 - [' ', 'L', ' ', 'E', 'W', 'M', 'E', ' ', 'L', 'W', 'V']\n",
      "(1.5.1) key: 16 - ['F', 'U', 'F', 'A', 'J', 'T', 'A', 'F', 'U', 'J', 'K']\n",
      "(1.5.1) key: 17 - ['E', 'V', 'E', ' ', 'I', 'S', ' ', 'E', 'V', 'I', 'L']\n",
      "(1.5.1) key: 18 - ['H', 'W', 'H', 'Z', 'L', 'R', 'Z', 'H', 'W', 'L', 'I']\n",
      "(1.5.1) key: 19 - ['G', 'X', 'G', 'Y', 'K', 'Q', 'Y', 'G', 'X', 'K', 'J']\n",
      "(1.5.1) key: 20 - ['B', 'Q', 'B', 'E', 'N', 'X', 'E', 'B', 'Q', 'N', 'O']\n",
      "(1.5.1) key: 21 - ['A', 'R', 'A', 'D', 'M', 'W', 'D', 'A', 'R', 'M', 'P']\n",
      "(1.5.1) key: 22 - ['D', 'S', 'D', 'C', 'P', 'V', 'C', 'D', 'S', 'P', 'M']\n",
      "(1.5.1) key: 23 - ['C', 'T', 'C', 'B', 'O', 'U', 'B', 'C', 'T', 'O', 'N']\n",
      "(1.5.1) key: 24 - ['N', 'B', 'N', 'T', 'B', 'A', 'T', 'N', 'B', 'B', 'C']\n",
      "(1.5.1) key: 25 - ['M', 'C', 'M', 'S', 'A', ' ', 'S', 'M', 'C', 'A', 'D']\n",
      "(1.5.1) key: 26 - ['P', 'D', 'P', 'R', 'D', 'Z', 'R', 'P', 'D', 'D', 'A']\n",
      "(1.5.1) key: 27 - ['O', 'E', 'O', 'Q', 'C', 'Y', 'Q', 'O', 'E', 'C', 'B']\n",
      "(1.5.1) key: 28 - ['J', 'Y', 'J', 'X', 'F', 'E', 'X', 'J', 'Y', 'F', 'G']\n",
      "(1.5.1) key: 29 - ['I', 'Z', 'I', 'W', 'E', 'D', 'W', 'I', 'Z', 'E', 'H']\n",
      "(1.5.1) key: 30 - ['L', ' ', 'L', 'V', 'H', 'C', 'V', 'L', ' ', 'H', 'E']\n",
      "(1.5.1) key: 31 - ['K', 'A', 'K', 'U', 'G', 'B', 'U', 'K', 'A', 'G', 'F']\n"
     ]
    }
   ],
   "source": [
    "# Task 1.5.1\n",
    "\n",
    "cyphertext = [0b10101, 0b00100, 0b10101, 0b01011, 0b11001, 0b00011, 0b01011, 0b10101, 0b00100, 0b11001, 0b11010]\n",
    "intToChar = {0:'A', 1:'B', 2:'C', 3:'D', 4:'E', 5:'F', 6:'G', 7:'H', 8:'I', 9:'J',\n",
    "             10:'K', 11:'L', 12:'M', 13:'N', 14:'O', 15:'P', 16:'Q', 17:'R', 18:'S', 19:'T', \n",
    "             20:'U', 21:'V', 22:'W', 23:'X', 24:'Y', 25:'Z', 26:' '}\n",
    "\n",
    "def decrypt(sequence, keyMask):\n",
    "    return [intToChar[(x ^ keyMask) % len(intToChar)] for x in sequence]\n",
    "\n",
    "for i in range(2**5):\n",
    "    print(\"(1.5.1) key:\", i, \"-\", decrypt(cyphertext, i))"
   ]
  },
  {
   "cell_type": "code",
   "execution_count": 22,
   "metadata": {
    "collapsed": false
   },
   "outputs": [
    {
     "name": "stdout",
     "output_type": "stream",
     "text": [
      "(1.5.1A) key: 17 - ['E', 'V', 'E', ' ', 'I', 'S', ' ', 'E', 'V', 'I', 'L']\n"
     ]
    }
   ],
   "source": [
    "# Task 1.5.1 - Analyzed\n",
    "\n",
    "print(\"(1.5.1A) key: 17 -\", decrypt(cyphertext, 17))"
   ]
  },
  {
   "cell_type": "code",
   "execution_count": null,
   "metadata": {
    "collapsed": true
   },
   "outputs": [],
   "source": []
  }
 ],
 "metadata": {
  "kernelspec": {
   "display_name": "Python [Root]",
   "language": "python",
   "name": "Python [Root]"
  },
  "language_info": {
   "codemirror_mode": {
    "name": "ipython",
    "version": 3
   },
   "file_extension": ".py",
   "mimetype": "text/x-python",
   "name": "python",
   "nbconvert_exporter": "python",
   "pygments_lexer": "ipython3",
   "version": "3.5.1"
  }
 },
 "nbformat": 4,
 "nbformat_minor": 0
}
