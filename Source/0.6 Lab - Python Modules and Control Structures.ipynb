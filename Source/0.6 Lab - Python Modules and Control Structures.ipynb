{
 "cells": [
  {
   "cell_type": "code",
   "execution_count": 3,
   "metadata": {
    "collapsed": false
   },
   "outputs": [
    {
     "name": "stdout",
     "output_type": "stream",
     "text": [
      "(0.6.1A): 2.9999999999999996\n",
      "(0.6.1B): (-1.0, 1.0)\n"
     ]
    }
   ],
   "source": [
    "# Task 0.6.1\n",
    "\n",
    "import math\n",
    "\n",
    "#help(math)\n",
    "\n",
    "calc_061A = math.pow(math.sqrt(3), 2)\n",
    "calc_061B = (math.cos(math.pi), math.log(math.e)) # math.sqrt(-1) throws a domain error\n",
    "\n",
    "print(\"(0.6.1A):\", calc_061A)\n",
    "print(\"(0.6.1B):\", calc_061B)"
   ]
  },
  {
   "cell_type": "code",
   "execution_count": 4,
   "metadata": {
    "collapsed": false
   },
   "outputs": [
    {
     "name": "stdout",
     "output_type": "stream",
     "text": [
      "(0.6.2A): Ideological claptrap!\n",
      "(0.6.2B): A gem!\n"
     ]
    }
   ],
   "source": [
    "# Task 0.6.2\n",
    "\n",
    "from random import randint\n",
    "\n",
    "def movieReview(name):\n",
    "    answers = ['See it!', 'A gem!', 'Ideological claptrap!']\n",
    "    return answers[randint(0, len(answers) - 1)]\n",
    "\n",
    "print(\"(0.6.2A):\", movieReview('Terminator'))\n",
    "print(\"(0.6.2B):\", movieReview('Alien'))"
   ]
  },
  {
   "cell_type": "code",
   "execution_count": 5,
   "metadata": {
    "collapsed": false
   },
   "outputs": [],
   "source": [
    "# Task 0.6.3\n",
    "\n",
    "import dictutil"
   ]
  },
  {
   "cell_type": "code",
   "execution_count": 6,
   "metadata": {
    "collapsed": false
   },
   "outputs": [
    {
     "ename": "NameError",
     "evalue": "name 'listrange2dict' is not defined",
     "output_type": "error",
     "traceback": [
      "\u001b[0;31m---------------------------------------------------------------------------\u001b[0m",
      "\u001b[0;31mNameError\u001b[0m                                 Traceback (most recent call last)",
      "\u001b[0;32m<ipython-input-6-209d2415e221>\u001b[0m in \u001b[0;36m<module>\u001b[0;34m()\u001b[0m\n\u001b[1;32m      5\u001b[0m \u001b[0mreload\u001b[0m\u001b[0;34m(\u001b[0m\u001b[0mdictutil\u001b[0m\u001b[0;34m)\u001b[0m\u001b[0;34m\u001b[0m\u001b[0m\n\u001b[1;32m      6\u001b[0m \u001b[0;34m\u001b[0m\u001b[0m\n\u001b[0;32m----> 7\u001b[0;31m \u001b[0mprint\u001b[0m\u001b[0;34m(\u001b[0m\u001b[0;34m\"(0.6.4):\"\u001b[0m\u001b[0;34m,\u001b[0m \u001b[0mlistrange2dict\u001b[0m\u001b[0;34m(\u001b[0m\u001b[0;34m[\u001b[0m\u001b[0;34m'A'\u001b[0m\u001b[0;34m,\u001b[0m \u001b[0;34m'B'\u001b[0m\u001b[0;34m,\u001b[0m \u001b[0;34m'C'\u001b[0m\u001b[0;34m]\u001b[0m\u001b[0;34m)\u001b[0m\u001b[0;34m)\u001b[0m\u001b[0;34m\u001b[0m\u001b[0m\n\u001b[0m",
      "\u001b[0;31mNameError\u001b[0m: name 'listrange2dict' is not defined"
     ]
    }
   ],
   "source": [
    "# Task 0.6.4\n",
    "\n",
    "from imp import reload\n",
    "\n",
    "reload(dictutil)\n",
    "\n",
    "print(\"(0.6.4):\", listrange2dict(['A', 'B', 'C']))"
   ]
  },
  {
   "cell_type": "code",
   "execution_count": 7,
   "metadata": {
    "collapsed": false
   },
   "outputs": [
    {
     "name": "stdout",
     "output_type": "stream",
     "text": [
      "1\n",
      "4\n",
      "9\n"
     ]
    }
   ],
   "source": [
    "# Task 0.6.5\n",
    "\n",
    "for x in [1, 2, 3]:\n",
    "    y = x*x\n",
    "    print(y)"
   ]
  },
  {
   "cell_type": "code",
   "execution_count": 8,
   "metadata": {
    "collapsed": false
   },
   "outputs": [],
   "source": [
    "# Task 0.6.6\n",
    "\n",
    "def makeInverseIndex(strList):\n",
    "    inverseIndex = {x:[] for y in strList for x in y.split()}\n",
    "    \n",
    "    for index in inverseIndex:\n",
    "        inverseIndex[index] = [i for (i, x) in enumerate(strList) if index in x.split()]\n",
    "    \n",
    "    return inverseIndex"
   ]
  },
  {
   "cell_type": "code",
   "execution_count": 62,
   "metadata": {
    "collapsed": false
   },
   "outputs": [],
   "source": [
    "# Task 0.6.7\n",
    "\n",
    "def orSearch(inverseIndex, query):\n",
    "    \n",
    "    resultList = [inverseIndex[i] for i in inverseIndex.keys() if i in query]\n",
    "    \n",
    "    return {item for subList in resultList for item in subList}"
   ]
  },
  {
   "cell_type": "code",
   "execution_count": 41,
   "metadata": {
    "collapsed": false
   },
   "outputs": [],
   "source": [
    "# Task 0.6.8\n",
    "\n",
    "def andSearch(inverseIndex, query):\n",
    "    \n",
    "    resultList = [inverseIndex[i] for i in inverseIndex.keys() if i in query] \n",
    "    resultSets = [set(subList) for subList in resultList]   \n",
    "    \n",
    "    result = resultSets[0] if len(resultSets) > 0 else set()\n",
    "    \n",
    "    for subSet in resultSets:\n",
    "        result = result & subSet\n",
    "    \n",
    "    return result"
   ]
  },
  {
   "cell_type": "code",
   "execution_count": 11,
   "metadata": {
    "collapsed": false
   },
   "outputs": [],
   "source": [
    "# Test\n",
    "\n",
    "file = open('resources/stories_small.txt')\n",
    "inverseIndex = makeInverseIndex(list(file))"
   ]
  },
  {
   "cell_type": "code",
   "execution_count": 59,
   "metadata": {
    "collapsed": false
   },
   "outputs": [
    {
     "data": {
      "text/plain": [
       "{4, 5, 13, 22, 24, 25, 34, 35, 40}"
      ]
     },
     "execution_count": 59,
     "metadata": {},
     "output_type": "execute_result"
    }
   ],
   "source": [
    "orSearch(inverseIndex, ['my', 'horse'])"
   ]
  },
  {
   "cell_type": "code",
   "execution_count": 58,
   "metadata": {
    "collapsed": false
   },
   "outputs": [
    {
     "data": {
      "text/plain": [
       "{13}"
      ]
     },
     "execution_count": 58,
     "metadata": {},
     "output_type": "execute_result"
    }
   ],
   "source": [
    "andSearch(inverseIndex, ['my', 'horse'])"
   ]
  }
 ],
 "metadata": {
  "anaconda-cloud": {},
  "kernelspec": {
   "display_name": "Python [Root]",
   "language": "python",
   "name": "Python [Root]"
  },
  "language_info": {
   "codemirror_mode": {
    "name": "ipython",
    "version": 3
   },
   "file_extension": ".py",
   "mimetype": "text/x-python",
   "name": "python",
   "nbconvert_exporter": "python",
   "pygments_lexer": "ipython3",
   "version": "3.5.1"
  }
 },
 "nbformat": 4,
 "nbformat_minor": 0
}
